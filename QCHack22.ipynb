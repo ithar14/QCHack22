{
 "cells": [
  {
   "cell_type": "code",
   "execution_count": 98,
   "id": "948aeba9-a238-4aff-bc5b-be5617788a51",
   "metadata": {},
   "outputs": [
    {
     "name": "stderr",
     "output_type": "stream",
     "text": [
      "ibmqfactory.load_account:WARNING:2022-04-10 13:30:07,252: Credentials are already in use. The existing account in the session will be replaced.\n"
     ]
    }
   ],
   "source": [
    "import numpy as np\n",
    "\n",
    "# Importing standard Qiskit libraries\n",
    "from qiskit import *\n",
    "from qiskit.tools.jupyter import *\n",
    "from ibm_quantum_widgets import *\n",
    "from qiskit import QuantumCircuit, transpile, Aer, IBMQ, assemble\n",
    "from qiskit.providers.aer import QasmSimulator\n",
    "from qiskit.providers.ibmq import least_busy\n",
    "# import basic plot tools\n",
    "from qiskit.visualization import *\n",
    "from qiskit.visualization import plot_histogram\n",
    "import matplotlib.pyplot as plt\n",
    "\n",
    "#from qiskit import QuantumCircuit, ClassicalRegister, QuantumRegister, transpile, assemble\n",
    "\n",
    "from qiskit import IBMQ\n",
    "\n",
    "# Loading your IBM Quantum account(s)\n",
    "provider = IBMQ.load_account()"
   ]
  },
  {
   "cell_type": "markdown",
   "id": "a49a8284-02c8-4012-b839-fd823666e48f",
   "metadata": {},
   "source": [
    "## binary --> image"
   ]
  },
  {
   "cell_type": "code",
   "execution_count": 4,
   "id": "1d57e66f-dfb3-4542-a1d9-0755879352a8",
   "metadata": {},
   "outputs": [
    {
     "name": "stdout",
     "output_type": "stream",
     "text": [
      "A index 0 ==> 01000001\n",
      "B index 1 ==> 01000010\n",
      "C index 2 ==> 01000011\n",
      "D index 3 ==> 01000100\n",
      "E index 4 ==> 01000101\n",
      "F index 5 ==> 01000110\n",
      "G index 6 ==> 01000111\n",
      "H index 7 ==> 01001000\n",
      "I index 8 ==> 01001001\n",
      "J index 9 ==> 01001010\n",
      "K index 10 ==> 01001011\n",
      "L index 11 ==> 01001100\n",
      "M index 12 ==> 01001101\n",
      "N index 13 ==> 01001110\n",
      "O index 14 ==> 01001111\n",
      "P index 15 ==> 01010000\n",
      "Q index 16 ==> 01010001\n",
      "R index 17 ==> 01010010\n",
      "S index 18 ==> 01010011\n",
      "T index 19 ==> 01010100\n",
      "U index 20 ==> 01010101\n",
      "V index 21 ==> 01010110\n",
      "W index 22 ==> 01010111\n",
      "X index 23 ==> 01011000\n",
      "Y index 24 ==> 01011001\n",
      "Z index 25 ==> 01011010\n"
     ]
    }
   ],
   "source": [
    "Text = \"ABCDEFGHIJKLMNOPQRSTUVWXYZ\"\n",
    "# convert int to bit string\n",
    "def Binary(Text):\n",
    "    '''\n",
    "    a function that gives the binary reperesentation\n",
    "    \n",
    "    Parameters:\n",
    "        Text (string) : input of string\n",
    "    Returns:\n",
    "        Bin (list) : binary reperesentation of each number with a length of 8\n",
    "    '''\n",
    "    Bin = []\n",
    "    byte_obj = Text.encode('ascii')\n",
    "    for i in range(len(Text)):\n",
    "        Bin.append(np.binary_repr(byte_obj[i], width=8))\n",
    "        print(Text[i],\"index\",i,\"==>\",Bin[i])\n",
    "    return Bin\n",
    "\n",
    "bin_list = Binary(Text)"
   ]
  },
  {
   "cell_type": "code",
   "execution_count": 6,
   "id": "4b95f2f3-e197-42a8-9a60-41ea649ed45b",
   "metadata": {},
   "outputs": [],
   "source": [
    "def Vazirani(Bin):\n",
    "    '''\n",
    "    a function that gives a list of Qcircuits\n",
    "    \n",
    "    Parameters:\n",
    "        Bin (list) : binary reperesentation of each number with a length of 8\n",
    "    Returns:\n",
    "        circuit_list (list) : a list of circuits\n",
    "    '''\n",
    "    \n",
    "    #a circuit for each character\n",
    "    circuit_list = []\n",
    "    \n",
    "    n=8\n",
    "    #binary string of each letter\n",
    "    for i in range(len(Bin)):\n",
    "        s = Bin[i] #string\n",
    "        \n",
    "        # Create the circuits\n",
    "        \n",
    "        # We need a circuit with n qubits, plus one auxiliary qubit\n",
    "        # Also need n classical bits to write the output to\n",
    "        bv_circuit = QuantumCircuit(n+1, n)\n",
    "\n",
    "        # put auxiliary in state |->\n",
    "        bv_circuit.h(n)\n",
    "        bv_circuit.z(n)\n",
    "\n",
    "        # Apply barrier \n",
    "        bv_circuit.barrier()\n",
    "\n",
    "        # Apply Hadamard gates before querying the oracle , for all n qubits\n",
    "        for i in range(n):\n",
    "            bv_circuit.h(i)\n",
    "    \n",
    "        # Apply barrier \n",
    "        bv_circuit.barrier()\n",
    "\n",
    "        # Apply the inner-product oracle\n",
    "        s = s[::-1] # reverse s to fit qiskit's qubit ordering |..,2nd,1st,0th> \n",
    "        for q in range(n):\n",
    "            if s[q] == '0':\n",
    "                bv_circuit.i(q) #identity if it's 0\n",
    "            else:\n",
    "                bv_circuit.cx(q, n) #cnot if 1\n",
    "        \n",
    "        # Apply barrier \n",
    "        bv_circuit.barrier()\n",
    "\n",
    "        #Apply Hadamard gates after querying the oracle\n",
    "        for i in range(n):\n",
    "            bv_circuit.h(i)\n",
    " \n",
    "        # Apply barrier \n",
    "        bv_circuit.barrier()\n",
    "\n",
    "        # Measurement\n",
    "        for i in range(n):\n",
    "            bv_circuit.measure(i, i)\n",
    "            \n",
    "        circuit_list.append(bv_circuit)\n",
    "    \n",
    "    return circuit_list\n",
    "circuit = Vazirani(bin_list) # list of all circuits"
   ]
  },
  {
   "cell_type": "code",
   "execution_count": 8,
   "id": "8e1bcac9-036f-4b8d-9fdf-683d2f6faf49",
   "metadata": {},
   "outputs": [
    {
     "data": {
      "image/png": "[encoded data removed]",
      "text/plain": [
       "<Figure size 504x360 with 1 Axes>"
      ]
     },
     "execution_count": 8,
     "metadata": {},
     "output_type": "execute_result"
    }
   ],
   "source": [
    "from qiskit.test.mock import FakeJohannesburg\n",
    "\n",
    "fake_device = FakeJohannesburg()\n",
    "\n",
    "\n",
    "results = execute(circuit, fake_device).result()\n",
    "counts = results.get_counts()\n",
    "plot_histogram(counts[16], title=\"letter Q\")"
   ]
  },
  {
   "cell_type": "code",
   "execution_count": 91,
   "id": "3d7e3658-acad-4d71-a5db-8b149e6638cf",
   "metadata": {},
   "outputs": [],
   "source": [
    "prob = [] # probabilities\n",
    "for k, v in counts[16].items(): # letter Q\n",
    "    prob.append(v)\n",
    "data_norm = prob / np.sqrt(np.sum(np.array(prob)**2))"
   ]
  },
  {
   "cell_type": "code",
   "execution_count": 92,
   "id": "387102e2-526e-4fb6-a97f-466ae27c170e",
   "metadata": {},
   "outputs": [
    {
     "data": {
      "text/plain": [
       "Text(0.5, 1.0, \"original 'Q'\")"
      ]
     },
     "execution_count": 92,
     "metadata": {},
     "output_type": "execute_result"
    },
    {
     "data": {
      "image/png": "[encoded data removed]",
      "text/plain": [
       "<Figure size 432x288 with 1 Axes>"
      ]
     },
     "metadata": {
      "needs_background": "light"
     },
     "output_type": "display_data"
    }
   ],
   "source": [
    "n_pixels = int(np.log2(len(data_norm)))\n",
    "data= data_norm.copy()\n",
    "data.resize((n_pixels,n_pixels))\n",
    "fig, ax = plt.subplots()\n",
    "ax.imshow(data)\n",
    "plt.axis('off')\n",
    "plt.title(\"original 'Q'\")"
   ]
  },
  {
   "cell_type": "markdown",
   "id": "23f7d37a-cd65-447f-9a3f-6cd4c9669e75",
   "metadata": {},
   "source": [
    "## blur effect [1]"
   ]
  },
  {
   "cell_type": "code",
   "execution_count": 77,
   "id": "3ec58242-667c-4f5a-9f67-f22b0875d5d3",
   "metadata": {},
   "outputs": [],
   "source": [
    "prob = []\n",
    "for k, v in counts[0].items(): \n",
    "    prob.append(v)"
   ]
  },
  {
   "cell_type": "code",
   "execution_count": 78,
   "id": "046eaf50-b54e-401a-90d6-581d5ce16af6",
   "metadata": {},
   "outputs": [],
   "source": [
    "if isinstance(np.log2(len(prob)), int): # vector dim has to be 2**n\n",
    "    pass\n",
    "else :\n",
    "    missing = 2**(int(np.log2(len(prob)))+1) - 2**int(np.log2(len(prob)))\n",
    "    for i in range(missing-5):\n",
    "        prob.append(0)\n",
    "data_norm = prob / np.sqrt(np.sum(np.array(prob)**2))"
   ]
  },
  {
   "cell_type": "code",
   "execution_count": 79,
   "id": "c5b90653-6771-4b00-b8d8-456bf3aec382",
   "metadata": {},
   "outputs": [
    {
     "data": {
      "text/plain": [
       "64"
      ]
     },
     "execution_count": 79,
     "metadata": {},
     "output_type": "execute_result"
    }
   ],
   "source": [
    "len(data_norm)"
   ]
  },
  {
   "cell_type": "code",
   "execution_count": 80,
   "id": "45942348-4006-4e4d-971f-ce3445be3e98",
   "metadata": {},
   "outputs": [
    {
     "data": {
      "text/plain": [
       "<qiskit.circuit.instructionset.InstructionSet at 0x7f8a12fc8500>"
      ]
     },
     "execution_count": 80,
     "metadata": {},
     "output_type": "execute_result"
    }
   ],
   "source": [
    "#initialize circuit\n",
    "n_qubits = int(np.log2(len(data_norm)))\n",
    "\n",
    "qc = QuantumCircuit(n_qubits, n_qubits)\n",
    "\n",
    "qc.initialize(data_norm)"
   ]
  },
  {
   "cell_type": "code",
   "execution_count": 81,
   "id": "2d00f0c5-6cd5-4bd2-8dd2-05245d9a4099",
   "metadata": {},
   "outputs": [
    {
     "data": {
      "image/png": "[encoded data removed]",
      "text/plain": [
       "<Figure size 989.597x445.48 with 1 Axes>"
      ]
     },
     "execution_count": 81,
     "metadata": {},
     "output_type": "execute_result"
    }
   ],
   "source": [
    "for i in range(n_qubits):\n",
    "    qc.rx(np.pi/2,i)\n",
    "qc.draw()"
   ]
  },
  {
   "cell_type": "code",
   "execution_count": 82,
   "id": "fc298189-afa4-44a0-a938-5dc6638aac9b",
   "metadata": {},
   "outputs": [],
   "source": [
    "from qiskit import BasicAer, execute\n",
    "simulator   = BasicAer.get_backend('statevector_simulator')\n",
    "sim_result  = execute(qc, simulator).result()\n",
    "final_state = sim_result.get_statevector(qc)"
   ]
  },
  {
   "cell_type": "code",
   "execution_count": 90,
   "id": "cc454785-acbc-4495-a748-22edac1a4729",
   "metadata": {},
   "outputs": [],
   "source": [
    "blur = np.real(final_state)\n",
    "n_pixels = int(np.log2(len(blur)))\n",
    "blur= blur.copy()\n",
    "blur.resize((n_pixels,n_pixels))"
   ]
  },
  {
   "cell_type": "code",
   "execution_count": 94,
   "id": "dae81638-7fcb-41bd-89f7-599ad806e51c",
   "metadata": {},
   "outputs": [
    {
     "data": {
      "text/plain": [
       "(-0.5, 4.5, 4.5, -0.5)"
      ]
     },
     "execution_count": 94,
     "metadata": {},
     "output_type": "execute_result"
    },
    {
     "data": {
      "image/png": "[encoded data removed]",
      "text/plain": [
       "<Figure size 432x288 with 2 Axes>"
      ]
     },
     "metadata": {
      "needs_background": "light"
     },
     "output_type": "display_data"
    }
   ],
   "source": [
    "fig, ax = plt.subplots(1,2)\n",
    "ax[0].imshow(blur)\n",
    "ax[0].set_title('blur Q')\n",
    "ax[0].axis('off')\n",
    "ax[1].imshow(data)\n",
    "ax[1].set_title('original Q')\n",
    "ax[1].axis('off')"
   ]
  },
  {
   "cell_type": "markdown",
   "id": "4095b54d-07af-43cb-afa6-420fc2ed0e1f",
   "metadata": {},
   "source": [
    "descrete pixels"
   ]
  },
  {
   "cell_type": "code",
   "execution_count": 97,
   "id": "2959671b-46ba-4554-adc2-8112388f628c",
   "metadata": {},
   "outputs": [
    {
     "data": {
      "image/png": "[encoded data removed]",
      "text/plain": [
       "<Figure size 432x288 with 1 Axes>"
      ]
     },
     "metadata": {
      "needs_background": "light"
     },
     "output_type": "display_data"
    }
   ],
   "source": [
    "from matplotlib import colors\n",
    "# make a color map of fixed colors\n",
    "cmap = colors.ListedColormap(['white','black'])\n",
    "bounds=[-1,0,1]\n",
    "norm = colors.BoundaryNorm(bounds, cmap.N)\n",
    "\n",
    "# tell imshow about color map so that only set colors are used\n",
    "img = plt.imshow(blur, interpolation='nearest', origin='lower',\n",
    "                    cmap=cmap, norm=norm)\n",
    "#plt.savefig(\"Q.png\")\n",
    "plt.show()"
   ]
  },
  {
   "cell_type": "markdown",
   "id": "0d3af3a6-5901-4217-a8ab-e5c85a6fbaf5",
   "metadata": {},
   "source": [
    "**Reference :**\n",
    "\n",
    "[1] [Investigating the usefulness of Quantum Blur](https://arxiv.org/abs/2112.01646)"
   ]
  }
 ],
 "metadata": {
  "kernelspec": {
   "display_name": "Qiskit v0.35.0 (ipykernel)",
   "language": "python",
   "name": "python3"
  },
  "language_info": {
   "codemirror_mode": {
    "name": "ipython",
    "version": 3
   },
   "file_extension": ".py",
   "mimetype": "text/x-python",
   "name": "python",
   "nbconvert_exporter": "python",
   "pygments_lexer": "ipython3",
   "version": "3.8.13"
  },
  "widgets": {
   "application/vnd.jupyter.widget-state+json": {
    "state": {
     "0983c687dfd744a585756a93585eef84": {
      "model_module": "@jupyter-widgets/base",
      "model_module_version": "1.2.0",
      "model_name": "LayoutModel",
      "state": {
       "margin": "0px 0px 10px 0px"
      }
     },
     "1f4d0073875c4aa5b9358f592eeaf3b1": {
      "model_module": "@jupyter-widgets/controls",
      "model_module_version": "1.5.0",
      "model_name": "ButtonModel",
      "state": {
       "button_style": "primary",
       "description": "Clear",
       "layout": "IPY_MODEL_fd390aace6584ff1827867287c7a101a",
       "style": "IPY_MODEL_7060146b117f41f19ae40cd5ae0be04a"
      }
     },
     "24c1fa69ecc946189cdfb317a8bb0faf": {
      "model_module": "@jupyter-widgets/base",
      "model_module_version": "1.2.0",
      "model_name": "LayoutModel",
      "state": {
       "width": "145px"
      }
     },
     "2e72ec0b9fc64cbc9d4b10d15b3818f0": {
      "model_module": "@jupyter-widgets/controls",
      "model_module_version": "1.5.0",
      "model_name": "DescriptionStyleModel",
      "state": {
       "description_width": ""
      }
     },
     "2f278a2d37e94024adf73c750e77456d": {
      "model_module": "@jupyter-widgets/base",
      "model_module_version": "1.2.0",
      "model_name": "LayoutModel",
      "state": {
       "margin": "0px 0px 0px 37px",
       "width": "600px"
      }
     },
     "40c965a4961145aa9e1d0e82b1a87fa7": {
      "model_module": "@jupyter-widgets/controls",
      "model_module_version": "1.5.0",
      "model_name": "HBoxModel",
      "state": {
       "children": [
        "IPY_MODEL_b0ddb73597104766be0eaffd647c77c0",
        "IPY_MODEL_f19ba6d0f86d4925ae99c245a77b027a",
        "IPY_MODEL_dd2643d0fa6a45df972e034490f740f4",
        "IPY_MODEL_aadac72d75d54d79acb912f703afa8fe",
        "IPY_MODEL_43c20ddd87e64ad3b129c81a2aeb444c"
       ],
       "layout": "IPY_MODEL_2f278a2d37e94024adf73c750e77456d"
      }
     },
     "41fe8046ff2543a499f9c8442f966530": {
      "model_module": "@jupyter-widgets/base",
      "model_module_version": "1.2.0",
      "model_name": "LayoutModel",
      "state": {
       "width": "95px"
      }
     },
     "43c20ddd87e64ad3b129c81a2aeb444c": {
      "model_module": "@jupyter-widgets/controls",
      "model_module_version": "1.5.0",
      "model_name": "HTMLModel",
      "state": {
       "layout": "IPY_MODEL_9887ded618674c05983b75fcd9a61ecf",
       "style": "IPY_MODEL_8cd9934d00444976a59d6a4d7ebee9b1",
       "value": "<h5>Message</h5>"
      }
     },
     "584686dfb5364a3ea83b4b14678e8281": {
      "model_module": "@jupyter-widgets/base",
      "model_module_version": "1.2.0",
      "model_name": "LayoutModel",
      "state": {
       "width": "70px"
      }
     },
     "628c75197a74422cbf98e9dcb04bb690": {
      "model_module": "@jupyter-widgets/base",
      "model_module_version": "1.2.0",
      "model_name": "LayoutModel",
      "state": {
       "width": "190px"
      }
     },
     "65e689995203467faf631cd81479d002": {
      "model_module": "@jupyter-widgets/base",
      "model_module_version": "1.2.0",
      "model_name": "LayoutModel",
      "state": {
       "grid_template_areas": "\n                                       \". . . . right \"\n                                        ",
       "grid_template_columns": "20% 20% 20% 20% 20%",
       "width": "100%"
      }
     },
     "7060146b117f41f19ae40cd5ae0be04a": {
      "model_module": "@jupyter-widgets/controls",
      "model_module_version": "1.5.0",
      "model_name": "ButtonStyleModel",
      "state": {}
     },
     "706fe9f380b54482b6d18d3754b83e81": {
      "model_module": "@jupyter-widgets/controls",
      "model_module_version": "1.5.0",
      "model_name": "DescriptionStyleModel",
      "state": {
       "description_width": ""
      }
     },
     "8cd9934d00444976a59d6a4d7ebee9b1": {
      "model_module": "@jupyter-widgets/controls",
      "model_module_version": "1.5.0",
      "model_name": "DescriptionStyleModel",
      "state": {
       "description_width": ""
      }
     },
     "9887ded618674c05983b75fcd9a61ecf": {
      "model_module": "@jupyter-widgets/base",
      "model_module_version": "1.2.0",
      "model_name": "LayoutModel",
      "state": {}
     },
     "aadac72d75d54d79acb912f703afa8fe": {
      "model_module": "@jupyter-widgets/controls",
      "model_module_version": "1.5.0",
      "model_name": "HTMLModel",
      "state": {
       "layout": "IPY_MODEL_584686dfb5364a3ea83b4b14678e8281",
       "style": "IPY_MODEL_2e72ec0b9fc64cbc9d4b10d15b3818f0",
       "value": "<h5>Queue</h5>"
      }
     },
     "b0ddb73597104766be0eaffd647c77c0": {
      "model_module": "@jupyter-widgets/controls",
      "model_module_version": "1.5.0",
      "model_name": "HTMLModel",
      "state": {
       "layout": "IPY_MODEL_628c75197a74422cbf98e9dcb04bb690",
       "style": "IPY_MODEL_db70a00b80c842b7b48d5c866728920f",
       "value": "<h5>Job ID</h5>"
      }
     },
     "d29954fac5c6471c9e301c2d3a327d3f": {
      "model_module": "@jupyter-widgets/controls",
      "model_module_version": "1.5.0",
      "model_name": "DescriptionStyleModel",
      "state": {
       "description_width": ""
      }
     },
     "d6bd20fa3d3a477d8d9b60d22bbb95f7": {
      "model_module": "@jupyter-widgets/controls",
      "model_module_version": "1.5.0",
      "model_name": "DescriptionStyleModel",
      "state": {
       "description_width": ""
      }
     },
     "db70a00b80c842b7b48d5c866728920f": {
      "model_module": "@jupyter-widgets/controls",
      "model_module_version": "1.5.0",
      "model_name": "DescriptionStyleModel",
      "state": {
       "description_width": ""
      }
     },
     "dd2643d0fa6a45df972e034490f740f4": {
      "model_module": "@jupyter-widgets/controls",
      "model_module_version": "1.5.0",
      "model_name": "HTMLModel",
      "state": {
       "layout": "IPY_MODEL_41fe8046ff2543a499f9c8442f966530",
       "style": "IPY_MODEL_d29954fac5c6471c9e301c2d3a327d3f",
       "value": "<h5>Status</h5>"
      }
     },
     "e90d2bd79bcc489c92fbabdb58301be1": {
      "model_module": "@jupyter-widgets/controls",
      "model_module_version": "1.5.0",
      "model_name": "GridBoxModel",
      "state": {
       "children": [
        "IPY_MODEL_1f4d0073875c4aa5b9358f592eeaf3b1"
       ],
       "layout": "IPY_MODEL_65e689995203467faf631cd81479d002"
      }
     },
     "f19ba6d0f86d4925ae99c245a77b027a": {
      "model_module": "@jupyter-widgets/controls",
      "model_module_version": "1.5.0",
      "model_name": "HTMLModel",
      "state": {
       "layout": "IPY_MODEL_24c1fa69ecc946189cdfb317a8bb0faf",
       "style": "IPY_MODEL_d6bd20fa3d3a477d8d9b60d22bbb95f7",
       "value": "<h5>Backend</h5>"
      }
     },
     "f1bab2f6c84640e69b6ae9b280041b3e": {
      "model_module": "@jupyter-widgets/controls",
      "model_module_version": "1.5.0",
      "model_name": "HTMLModel",
      "state": {
       "layout": "IPY_MODEL_0983c687dfd744a585756a93585eef84",
       "style": "IPY_MODEL_706fe9f380b54482b6d18d3754b83e81",
       "value": "<p style='font-family: IBM Plex Sans, Arial, Helvetica, sans-serif; font-size: 20px; font-weight: medium;'>Circuit Properties</p>"
      }
     },
     "fd390aace6584ff1827867287c7a101a": {
      "model_module": "@jupyter-widgets/base",
      "model_module_version": "1.2.0",
      "model_name": "LayoutModel",
      "state": {
       "grid_area": "right",
       "padding": "0px 0px 0px 0px",
       "width": "70px"
      }
     }
    },
    "version_major": 2,
    "version_minor": 0
   }
  }
 },
 "nbformat": 4,
 "nbformat_minor": 5
}
